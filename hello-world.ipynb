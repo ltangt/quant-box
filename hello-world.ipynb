{
 "cells": [
  {
   "cell_type": "code",
   "execution_count": 2,
   "metadata": {
    "collapsed": false
   },
   "outputs": [],
   "source": [
    "from yahoo_finance import Share\n",
    "yahoo = Share('YHOO')\n",
    "data= yahoo.get_historical('2014-04-25', '2014-04-29')"
   ]
  },
  {
   "cell_type": "code",
   "execution_count": 3,
   "metadata": {
    "collapsed": false
   },
   "outputs": [
    {
     "name": "stdout",
     "output_type": "stream",
     "text": [
      "[{'Volume': '28736000', 'Symbol': 'YHOO', 'Adj_Close': '35.830002', 'High': '35.889999', 'Low': '34.119999', 'Date': '2014-04-29', 'Close': '35.830002', 'Open': '34.369999'}, {'Volume': '31019200', 'Symbol': 'YHOO', 'Adj_Close': '33.990002', 'High': '35.00', 'Low': '33.650002', 'Date': '2014-04-28', 'Close': '33.990002', 'Open': '34.669998'}, {'Volume': '19401600', 'Symbol': 'YHOO', 'Adj_Close': '34.48', 'High': '35.099998', 'Low': '34.290001', 'Date': '2014-04-25', 'Close': '34.48', 'Open': '35.029999'}]\n"
     ]
    }
   ],
   "source": [
    "print data"
   ]
  },
  {
   "cell_type": "code",
   "execution_count": 10,
   "metadata": {
    "collapsed": false
   },
   "outputs": [
    {
     "name": "stdout",
     "output_type": "stream",
     "text": [
      "['35.830002', '33.990002', '34.48']\n"
     ]
    }
   ],
   "source": [
    "close_price = []\n",
    "for day_ret in data:\n",
    "    price = day_ret['Close']\n",
    "    close_price.append(price)\n",
    "print close_price"
   ]
  },
  {
   "cell_type": "code",
   "execution_count": 15,
   "metadata": {
    "collapsed": false
   },
   "outputs": [
    {
     "name": "stdout",
     "output_type": "stream",
     "text": [
      "-4.64\n",
      "34.35B\n",
      "0.142247510669\n"
     ]
    }
   ],
   "source": [
    "print yahoo.get_earnings_share()\n",
    "print yahoo.get_market_cap()\n",
    "print 1.0/float(yahoo.get_price_sales())"
   ]
  },
  {
   "cell_type": "code",
   "execution_count": 16,
   "metadata": {
    "collapsed": false
   },
   "outputs": [
    {
     "name": "stdout",
     "output_type": "stream",
     "text": [
      "0.0561286918647\n"
     ]
    }
   ],
   "source": [
    "fb = Share('FB')\n",
    "print 1.0/float(fb.get_price_sales())"
   ]
  },
  {
   "cell_type": "code",
   "execution_count": 27,
   "metadata": {
    "collapsed": false
   },
   "outputs": [
    {
     "name": "stdout",
     "output_type": "stream",
     "text": [
      "0.196463654224\n"
     ]
    }
   ],
   "source": [
    "lnkd = Share('LNKD')\n",
    "print 1.0/float(lnkd.get_price_sales())"
   ]
  }
 ],
 "metadata": {
  "kernelspec": {
   "display_name": "Python 2",
   "language": "python",
   "name": "python2"
  },
  "language_info": {
   "codemirror_mode": {
    "name": "ipython",
    "version": 2
   },
   "file_extension": ".py",
   "mimetype": "text/x-python",
   "name": "python",
   "nbconvert_exporter": "python",
   "pygments_lexer": "ipython2",
   "version": "2.7.10"
  }
 },
 "nbformat": 4,
 "nbformat_minor": 0
}
